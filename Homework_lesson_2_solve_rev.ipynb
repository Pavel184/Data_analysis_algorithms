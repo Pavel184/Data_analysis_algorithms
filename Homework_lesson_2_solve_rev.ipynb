{
 "cells": [
  {
   "cell_type": "markdown",
   "metadata": {},
   "source": [
    "1.У вас, с прошлого урока, имеются реализации расчёта среднеквадратичной ошибки и её градиента для линейнй регрессии с коэффициентами при факторах(w) и свободным коэффициентам.\n",
    "```python\n",
    "class linear_regression:\n",
    "    def _mserror(self, X, y_real):\n",
    "        #рассчёт среднеквадратичной ошибки\n",
    "        y = X.dot(self.w.T)+self.w0\n",
    "        return np.sum((y - y_real)**2) / y_real.shape[0]\n",
    "    def _mserror_grad(self, X, y_real):\n",
    "        #рассчёт градиента ошибки.\n",
    "        #2*delta.T.dot(X)/y_real.shape[0] - градиент по коэффициентам при факторах\n",
    "        #np.sum(2*delta)/y_real.shape[0] - производная(градиент) при нулевом коэффициенте\n",
    "        delta=(X.dot(self.w.T)+self.w0-y_real)\n",
    "        return 2*delta.T.dot(X)/y_real.shape[0], np.sum(2*delta)/y_real.shape[0]\n",
    "```\n",
    "В этом задании вы должны модифицировать реализацию рассчёта среднеквадратичной ошибки и рассчёта её производной, так, чтобы с к среднеквадратичной ошибке добавлялась l2 регулярязационная поправка: $ +c*\\sum \\limits _{j}  w_{j}^2 $ а к градиенту- ссответствующее выражение для градиента регулярязационной поправки."
   ]
  },
  {
   "cell_type": "code",
   "execution_count": 1,
   "metadata": {},
   "outputs": [],
   "source": [
    "import numpy as np\n",
    "class linear_regression_with_L2:\n",
    "    def __init__(self, eta = 0.9, max_iter = 1e4, min_weight_dist = 1e-8):\n",
    "        self.eta = eta\n",
    "        self.max_iter = max_iter\n",
    "        self.min_weight_dist = min_weight_dist\n",
    "    def _mserror(self, X, y_real):\n",
    "        #рассчёт среднеквадратичной ошибки\n",
    "        y = X.dot(self.w.T)+self.w0\n",
    "        return np.sum((y - y_real)**2) / y_real.shape[0]+10*(np.sum(np.dot(self.w,self.w.T))+self.w0**2)\n",
    "    def _mserror_grad(self, X, y_real):\n",
    "        #рассчёт градиента ошибки.\n",
    "        #2*delta.T.dot(X)/y_real.shape[0] - градиент по коэффициентам при факторах\n",
    "        #np.sum(2*delta)/y_real.shape[0] - производная(градиент) при нулевом коэффициенте\n",
    "        delta=(X.dot(self.w.T)+self.w0-y_real)\n",
    "        return 2*delta.T.dot(X)/y_real.shape[0]+2*10*(self.w+self.w0), np.sum(2*delta)/y_real.shape[0]\n",
    "    def _optimize(self, X, Y):\n",
    "        #оптимизация коэффициентов\n",
    "        iter_num = 0\n",
    "        weight_dist = np.inf\n",
    "        self.w = np.zeros((1, X.shape[1]))\n",
    "        self.w0=0\n",
    "        while weight_dist > self.min_weight_dist and iter_num < self.max_iter:\n",
    "            gr_w, gr_w0=self._mserror_grad(X, Y)\n",
    "            if iter_num==0:\n",
    "                #Чтобы eta адаптировалась к порядку градиента, делим на l2 норму градиента в нуле\n",
    "                eta=self.eta/np.sqrt(np.linalg.norm(gr_w)**2+(gr_w0)**2)\n",
    "            new_w = self.w - eta * gr_w\n",
    "            new_w0= self.w0 - eta * gr_w0\n",
    "            weight_dist = np.sqrt(np.linalg.norm(new_w - self.w)**2+(new_w0 - self.w0)**2)\n",
    "            iter_num += 1\n",
    "            self.w = new_w\n",
    "            self.w0 = new_w0\n",
    "    def fit(self, X, Y):\n",
    "        if Y.ndim==1:\n",
    "            Y=Y[:, np.newaxis]\n",
    "        self._optimize(X, Y)\n",
    "    def predict(self, X):\n",
    "        return (X.dot(self.w.T)+self.w0).flatten()\n",
    "    def test(self, X, Y):\n",
    "        if Y.ndim==1:\n",
    "            Y=Y[:, np.newaxis]\n",
    "        return self._mserror(X, Y)"
   ]
  },
  {
   "cell_type": "markdown",
   "metadata": {},
   "source": [
    "2.На основе этих функций создайте свою регуляризированную полиномиальную регрессию и опробуйте на одном из примеров построения полиномиальной модели из этого урока. <br>\n",
    "<i><b>Пояснение:</b>Для этого Вам достаточно создать класс, который наследуется от класса polynomial_regression из данного урока, и переопределить в нём методы mserror, mserror_grad(под переопределением подразумевается создание на новом классе методов с таким же названием). </i>"
   ]
  },
  {
   "cell_type": "code",
   "execution_count": 2,
   "metadata": {},
   "outputs": [],
   "source": [
    "import matplotlib\n",
    "#import numpy as np\n",
    "import matplotlib.pyplot as plt\n",
    "from linear_regression import linear_regression\n",
    "from sklearn.linear_model import LinearRegression as sklearn_LR\n",
    "%matplotlib inline"
   ]
  },
  {
   "cell_type": "code",
   "execution_count": 3,
   "metadata": {},
   "outputs": [],
   "source": [
    "def f(x):\n",
    "    return 0.6 - 13.2 * x - 5.3 * x ** 2 - 4.17 * x ** 3\n",
    "dots = np.linspace(-10, 10, 100)"
   ]
  },
  {
   "cell_type": "code",
   "execution_count": 4,
   "metadata": {},
   "outputs": [],
   "source": [
    "def f(x):\n",
    "    return 0.6 - 13.2 * x - 5.3 * x ** 2 - 4.17 * x ** 3\n",
    "np.random.seed(16)\n",
    "x_data = np.random.uniform(-10, 10, 10)\n",
    "f_data = [f(i) for i in x_data] + np.random.uniform(-1000, 1000, 10)"
   ]
  },
  {
   "cell_type": "code",
   "execution_count": 5,
   "metadata": {},
   "outputs": [],
   "source": [
    "class polynomial_regression(linear_regression):\n",
    "    def __init__(self, max_power, *args, **kwargs):\n",
    "        self.max_power=max_power\n",
    "        super().__init__(*args, **kwargs)\n",
    "    @staticmethod\n",
    "    def generate_features(x, max_power):\n",
    "        x=x[:, np.newaxis]\n",
    "        return np.concatenate([x**i for i in range(1, max_power+1)], axis=1)\n",
    "    def fit(self, x, y):\n",
    "        super().fit(self.generate_features(x, self.max_power), y)\n",
    "    def predict(self, x):\n",
    "        return super().predict(self.generate_features(x, self.max_power)).flatten()\n",
    "    def test(self, x, y):\n",
    "        return super().test(self.generate_features(x, self.max_power), y)\n",
    "    \n",
    "class polynomial_regression_sklearn(sklearn_LR):\n",
    "    def __init__(self, max_power, *args, **kwargs):\n",
    "        self.max_power=max_power\n",
    "        super().__init__(*args, **kwargs)\n",
    "    generate_features=staticmethod(polynomial_regression.generate_features)\n",
    "    def fit(self, x, y):\n",
    "        super().fit(self.generate_features(x, self.max_power), y)\n",
    "    def predict(self, x):\n",
    "        return super().predict(self.generate_features(x, self.max_power))\n",
    "    def test(self, x, y):\n",
    "        return np.sum((self.predict(x) - y)**2) / y.shape[0]"
   ]
  },
  {
   "cell_type": "code",
   "execution_count": 6,
   "metadata": {},
   "outputs": [
    {
     "data": {
      "text/plain": [
       "[<matplotlib.lines.Line2D at 0x1c52493a9a0>]"
      ]
     },
     "execution_count": 6,
     "metadata": {},
     "output_type": "execute_result"
    },
    {
     "data": {
      "image/png": "[encoded data removed]",
      "text/plain": [
       "<Figure size 432x288 with 1 Axes>"
      ]
     },
     "metadata": {
      "needs_background": "light"
     },
     "output_type": "display_data"
    }
   ],
   "source": [
    "#Актуальные данные\n",
    "plt.xlabel('x')\n",
    "plt.ylabel('f(x)')\n",
    "plt.ylim(-5000, 5000)\n",
    "plt.xlim(-10,10)\n",
    "plt.plot(dots, f(dots), color='g')\n",
    "plt.scatter(x_data, f_data)\n",
    "\n",
    "#Наша модель\n",
    "model1 = polynomial_regression(6, 0.0005, max_iter = 1e5)\n",
    "model1.fit(x_data, f_data)\n",
    "plt.plot(dots, model1.predict(dots), color='r')\n",
    "\n",
    "#Sklearn\n",
    "model2 = polynomial_regression_sklearn(6)\n",
    "model2.fit(x_data, f_data)\n",
    "plt.plot(dots, model2.predict(dots), 'm--', linewidth=2)"
   ]
  },
  {
   "cell_type": "code",
   "execution_count": 7,
   "metadata": {},
   "outputs": [],
   "source": [
    "class polynomial_regression_with_L2(polynomial_regression):\n",
    "    def _mserror(self, X, y_real):\n",
    "        y = X.dot(self.w.T)+self.w0 # 10*(np.sum(np.dot(self.w,self.w.T))+self.w0 - L2 резуляризация\n",
    "        return np.sum((y - y_real)**2) / y_real.shape[0]+0.01*(np.sum(np.dot(self.w,self.w.T))+self.w0**2)\n",
    "    def _mserror_grad(self, X, y_real):\n",
    "        delta=(X.dot(self.w.T)+self.w0-y_real)\n",
    "        return 2*delta.T.dot(X)/y_real.shape[0]+2*0.01*(self.w+self.w0), np.sum(2*delta)/y_real.shape[0]\n",
    "    "
   ]
  },
  {
   "cell_type": "code",
   "execution_count": 8,
   "metadata": {},
   "outputs": [
    {
     "data": {
      "text/plain": [
       "[<matplotlib.lines.Line2D at 0x1c5249fb130>]"
      ]
     },
     "execution_count": 8,
     "metadata": {},
     "output_type": "execute_result"
    },
    {
     "data": {
      "image/png": "[encoded data removed]",
      "text/plain": [
       "<Figure size 432x288 with 1 Axes>"
      ]
     },
     "metadata": {
      "needs_background": "light"
     },
     "output_type": "display_data"
    }
   ],
   "source": [
    "#Актуальные данные\n",
    "plt.xlabel('x')\n",
    "plt.ylabel('f(x)')\n",
    "plt.ylim(-5000, 5000)\n",
    "plt.xlim(-10,10)\n",
    "plt.plot(dots, f(dots), color='g')\n",
    "plt.scatter(x_data, f_data)\n",
    "\n",
    "#Наша модель\n",
    "model3 = polynomial_regression_with_L2(6, 0.0005, max_iter = 1e5)\n",
    "model3.fit(x_data, f_data)\n",
    "plt.plot(dots, model3.predict(dots), color='r')\n",
    "\n",
    "#Sklearn\n",
    "model2 = polynomial_regression_sklearn(6)\n",
    "model2.fit(x_data, f_data)\n",
    "plt.plot(dots, model2.predict(dots), 'm--', linewidth=2)"
   ]
  },
  {
   "cell_type": "code",
   "execution_count": 9,
   "metadata": {},
   "outputs": [],
   "source": [
    "from scipy.optimize import minimize\n",
    "class polynomial_regression_lbfgs_L2(polynomial_regression):\n",
    "    def __init__(self, max_power, c=1.0):\n",
    "        self.max_power=max_power\n",
    "        self.c=c\n",
    "    def _mserror(self, X, y_real):\n",
    "        y = X.dot(self.w.T)+self.w0+self.c*(np.sum(np.dot(self.w,self.w.T))+self.w0**2) # 10*(np.sum(np.dot(self.w,self.w.T))+self.w0 - L2 резуляризация\n",
    "        return np.sum((y - y_real)**2) / y_real.shape[0]\n",
    "    def _mserror_grad(self, X, y_real):\n",
    "        delta=(X.dot(self.w.T)+self.w0-y_real)\n",
    "        return 2*delta.T.dot(X)/y_real.shape[0]+2*self.c*(self.w+self.w0), np.sum(2*delta)/y_real.shape[0]\n",
    "    def _optimize(self, X, Y):\n",
    "        def assign_w(w):\n",
    "            self.w0=w[0]\n",
    "            self.w=w[1:][np.newaxis, :]\n",
    "        def func(w):\n",
    "            assign_w(w)\n",
    "            return super(polynomial_regression, self).test(X, Y)\n",
    "        def jac(w):\n",
    "            assign_w(w)\n",
    "            gr_w, gr_w0=self._mserror_grad(X, Y)\n",
    "            return np.concatenate([[gr_w0], gr_w.flatten()])\n",
    "        w=np.zeros((X.shape[1]+1,))\n",
    "        w=minimize(func, w, jac=jac, method='BFGS').x\n",
    "        assign_w(w)"
   ]
  },
  {
   "cell_type": "code",
   "execution_count": 10,
   "metadata": {},
   "outputs": [
    {
     "data": {
      "text/plain": [
       "[<matplotlib.lines.Line2D at 0x1c524a67580>]"
      ]
     },
     "execution_count": 10,
     "metadata": {},
     "output_type": "execute_result"
    },
    {
     "data": {
      "image/png": "[encoded data removed]",
      "text/plain": [
       "<Figure size 432x288 with 1 Axes>"
      ]
     },
     "metadata": {
      "needs_background": "light"
     },
     "output_type": "display_data"
    }
   ],
   "source": [
    "#Актуальные данные\n",
    "plt.xlabel('x')\n",
    "plt.ylabel('f(x)')\n",
    "plt.ylim(-5000, 5000)\n",
    "plt.xlim(-10,10)\n",
    "plt.plot(dots, f(dots), color='g')\n",
    "plt.scatter(x_data, f_data)\n",
    "\n",
    "#Наша модель\n",
    "model4 = polynomial_regression_lbfgs_L2(6, 0.01)\n",
    "model4.fit(x_data, f_data)\n",
    "plt.plot(dots, model4.predict(dots), color='r')\n",
    "\n",
    "#Sklearn\n",
    "model2 = polynomial_regression_sklearn(6)\n",
    "model2.fit(x_data, f_data)\n",
    "plt.plot(dots, model2.predict(dots), 'm--', linewidth=2)"
   ]
  },
  {
   "cell_type": "code",
   "execution_count": 11,
   "metadata": {},
   "outputs": [
    {
     "name": "stdout",
     "output_type": "stream",
     "text": [
      "Коэффициенты при факторах(наша модель): [[-0.00026019  0.00221125 -0.00941793  0.06163923 -0.05145382 -0.00241749]]\n",
      "Коэффициенты при факторах(наша модель+L2): [[-0.00026019  0.00221125 -0.00941793  0.06163923 -0.05145382 -0.00241749]]\n",
      "Коэффициенты при факторах(наша модель lbfgs+L2): [[ 1.10894463e+02  8.17659767e+00 -6.05605358e+00  4.23894220e-02\n",
      "   2.18086848e-02 -2.47700707e-03]]\n",
      "Коэффициенты при факторах(sklearn): [ 3.18714291e+02  5.91424507e+01 -2.19724981e+01 -2.73548014e+00\n",
      "  1.79059852e-01  2.46511203e-02]\n",
      "Нулевые коэффициенты(интерцепты): 6.566477934318192e-06 6.566477951052001e-06 -134.3943377840028 -441.36648885405566\n"
     ]
    }
   ],
   "source": [
    "print('Коэффициенты при факторах(наша модель):', model1.w)\n",
    "print('Коэффициенты при факторах(наша модель+L2):', model3.w)\n",
    "print('Коэффициенты при факторах(наша модель lbfgs+L2):', model4.w)\n",
    "print('Коэффициенты при факторах(sklearn):', model2.coef_)\n",
    "print('Нулевые коэффициенты(интерцепты):',model1.w0,model3.w0, model4.w0, model2.intercept_)"
   ]
  },
  {
   "cell_type": "markdown",
   "metadata": {},
   "source": [
    "Никак не пойму почему коэфициенты в моделе model3 с регуляризацией поменялись столь незначительно"
   ]
  },
  {
   "cell_type": "markdown",
   "metadata": {},
   "source": [
    "3*. (по желанию). Оцените оцените предсказательную способность реализованного метода с использование 5-ти ступенчатой кросс-валидации, показанной в примере выше. "
   ]
  },
  {
   "cell_type": "code",
   "execution_count": 12,
   "metadata": {},
   "outputs": [],
   "source": [
    "#Посчитаем р-квадрат\n",
    "def r_square(y, y_real):\n",
    "    ss_total=np.sum((y_real-np.mean(y_real))**2)\n",
    "    ss_res=np.sum((y_real-y)**2)\n",
    "    return 1-ss_res/ss_total"
   ]
  },
  {
   "cell_type": "code",
   "execution_count": 13,
   "metadata": {},
   "outputs": [
    {
     "name": "stdout",
     "output_type": "stream",
     "text": [
      "0.7208863856263013\n"
     ]
    }
   ],
   "source": [
    "indexes=np.arange(len(f_data))%5\n",
    "y_actual=[]\n",
    "y_predicted=[]\n",
    "\n",
    "for i in range(5):\n",
    "    y_actual.append(f_data[indexes==i])\n",
    "    mod=polynomial_regression_with_L2(3, 0.0005, max_iter = 1e5) # для полинома 3й степени\n",
    "    mod.fit(x_data[indexes!=i], f_data[indexes!=i])\n",
    "    y_predicted.append(mod.predict(x_data[indexes==i]))\n",
    "    \n",
    "y_actual=np.concatenate(y_actual)\n",
    "y_predicted=np.concatenate(y_predicted)\n",
    "print(r_square(y_predicted, y_actual))"
   ]
  },
  {
   "cell_type": "code",
   "execution_count": 14,
   "metadata": {},
   "outputs": [
    {
     "name": "stdout",
     "output_type": "stream",
     "text": [
      "0.15806988795394905\n"
     ]
    }
   ],
   "source": [
    "indexes=np.arange(len(f_data))%5\n",
    "y_actual=[]\n",
    "y_predicted=[]\n",
    "\n",
    "for i in range(5):\n",
    "    y_actual.append(f_data[indexes==i])\n",
    "    mod=polynomial_regression_with_L2(6, 0.0005, max_iter = 1e5) # для полинома 6й степени\n",
    "    mod.fit(x_data[indexes!=i], f_data[indexes!=i])\n",
    "    y_predicted.append(mod.predict(x_data[indexes==i]))\n",
    "    \n",
    "y_actual=np.concatenate(y_actual)\n",
    "y_predicted=np.concatenate(y_predicted)\n",
    "print(r_square(y_predicted, y_actual))"
   ]
  },
  {
   "cell_type": "code",
   "execution_count": 15,
   "metadata": {},
   "outputs": [
    {
     "name": "stdout",
     "output_type": "stream",
     "text": [
      "0.8112149145318328\n"
     ]
    }
   ],
   "source": [
    "indexes=np.arange(len(f_data))%3 # 3х ступенчатая кросс валидация\n",
    "y_actual=[]\n",
    "y_predicted=[]\n",
    "\n",
    "for i in range(5):\n",
    "    y_actual.append(f_data[indexes==i])\n",
    "    mod=polynomial_regression_with_L2(3, 0.0005, max_iter = 1e5) # для полинома 3й степени\n",
    "    mod.fit(x_data[indexes!=i], f_data[indexes!=i])\n",
    "    y_predicted.append(mod.predict(x_data[indexes==i]))\n",
    "    \n",
    "y_actual=np.concatenate(y_actual)\n",
    "y_predicted=np.concatenate(y_predicted)\n",
    "print(r_square(y_predicted, y_actual))"
   ]
  }
 ],
 "metadata": {
  "kernelspec": {
   "display_name": "Python 3",
   "language": "python",
   "name": "python3"
  },
  "language_info": {
   "codemirror_mode": {
    "name": "ipython",
    "version": 3
   },
   "file_extension": ".py",
   "mimetype": "text/x-python",
   "name": "python",
   "nbconvert_exporter": "python",
   "pygments_lexer": "ipython3",
   "version": "3.8.3"
  }
 },
 "nbformat": 4,
 "nbformat_minor": 4
}
