{
 "cells": [
  {
   "cell_type": "markdown",
   "metadata": {},
   "source": [
    "**Модифицировать реализацию KNN из методички так, чтобы больший вес получали наиболее близко расположенные объекты**"
   ]
  },
  {
   "cell_type": "code",
   "execution_count": 1,
   "metadata": {},
   "outputs": [],
   "source": [
    "import numpy as np\n",
    "from sklearn import model_selection\n",
    "from sklearn.datasets import load_iris\n",
    "import matplotlib.pyplot as plt\n",
    "from matplotlib.colors import ListedColormap"
   ]
  },
  {
   "cell_type": "code",
   "execution_count": 2,
   "metadata": {},
   "outputs": [],
   "source": [
    "X, y = load_iris(return_X_y=True)\n",
    "\n",
    "# Для наглядности возьмем только первые два признака (всего в датасете их 4)\n",
    "X = X[:, :2]"
   ]
  },
  {
   "cell_type": "code",
   "execution_count": 3,
   "metadata": {},
   "outputs": [],
   "source": [
    "X_train, X_test, y_train, y_test = model_selection.train_test_split(X, y, test_size=0.2, random_state=1)"
   ]
  },
  {
   "cell_type": "code",
   "execution_count": 4,
   "metadata": {},
   "outputs": [],
   "source": [
    "def e_metrics(x1, x2):\n",
    "    \n",
    "    distance = 0\n",
    "    for i in range(len(x1)):\n",
    "        distance += np.square(x1[i] - x2[i])\n",
    "      \n",
    "    return np.sqrt(distance)"
   ]
  },
  {
   "cell_type": "code",
   "execution_count": 5,
   "metadata": {},
   "outputs": [],
   "source": [
    "def knn(x_train, y_train, x_test, k):\n",
    "    \n",
    "    answers = []\n",
    "    for x in x_test:\n",
    "        test_distances = []\n",
    "            \n",
    "        for i in range(len(x_train)):\n",
    "            \n",
    "            # расчет расстояния от классифицируемого объекта до\n",
    "            # объекта обучающей выборки\n",
    "            distance = e_metrics(x, x_train[i])\n",
    "            \n",
    "            # Записываем в список значение расстояния и ответа на объекте обучающей выборки\n",
    "            test_distances.append((distance, y_train[i]))\n",
    "        \n",
    "        # создаем словарь со всеми возможными классами\n",
    "        classes = {class_item: 0 for class_item in set(y_train)}\n",
    "        \n",
    "        # Сортируем список и среди первых k элементов подсчитаем частоту появления разных классов\n",
    "        for d in sorted(test_distances)[0:k]:\n",
    "            classes[d[1]] += 0.1**d[0] # Получается своеобразная регуляризация, уменьшая коэффициент возводимый в степень, можно бороться с переобучением\n",
    "            \n",
    "        # Записываем в список ответов наиболее часто встречающийся класс\n",
    "        answers.append(sorted(classes, key=classes.get)[-1])\n",
    "    return answers"
   ]
  },
  {
   "cell_type": "code",
   "execution_count": 6,
   "metadata": {},
   "outputs": [],
   "source": [
    "def accuracy(pred, y):\n",
    "    return (sum(pred == y) / len(y))"
   ]
  },
  {
   "cell_type": "code",
   "execution_count": 7,
   "metadata": {},
   "outputs": [
    {
     "name": "stdout",
     "output_type": "stream",
     "text": [
      "Точность алгоритма при k = 1: 0.667\n"
     ]
    }
   ],
   "source": [
    "k = 1\n",
    "\n",
    "y_pred = knn(X_train, y_train, X_test, k)\n",
    "\n",
    "print(f'Точность алгоритма при k = {k}: {accuracy(y_pred, y_test):.3f}')"
   ]
  },
  {
   "cell_type": "code",
   "execution_count": 8,
   "metadata": {},
   "outputs": [
    {
     "name": "stdout",
     "output_type": "stream",
     "text": [
      "Точность алгоритма при k = 3: 0.733\n"
     ]
    }
   ],
   "source": [
    "k = 3\n",
    "\n",
    "y_pred = knn(X_train, y_train, X_test, k)\n",
    "\n",
    "print(f'Точность алгоритма при k = {k}: {accuracy(y_pred, y_test):.3f}')"
   ]
  },
  {
   "cell_type": "code",
   "execution_count": 9,
   "metadata": {},
   "outputs": [
    {
     "name": "stdout",
     "output_type": "stream",
     "text": [
      "Точность алгоритма при k = 5: 0.867\n"
     ]
    }
   ],
   "source": [
    "k = 5\n",
    "\n",
    "y_pred = knn(X_train, y_train, X_test, k)\n",
    "\n",
    "print(f'Точность алгоритма при k = {k}: {accuracy(y_pred, y_test):.3f}')"
   ]
  },
  {
   "cell_type": "code",
   "execution_count": 10,
   "metadata": {},
   "outputs": [
    {
     "name": "stdout",
     "output_type": "stream",
     "text": [
      "Точность алгоритма при k = 10: 0.867\n"
     ]
    }
   ],
   "source": [
    "k = 10\n",
    "\n",
    "y_pred = knn(X_train, y_train, X_test, k)\n",
    "\n",
    "print(f'Точность алгоритма при k = {k}: {accuracy(y_pred, y_test):.3f}')"
   ]
  },
  {
   "cell_type": "markdown",
   "metadata": {},
   "source": [
    "**Реализовать иерархическую кластеризацию с любой из межкластерных метрик, кроме рассмотренной на вебинаре(Average Linkage Distance). Межкластерные метрики(Intercuster Distance) находятся здесь: https://www.geeksforgeeks.org/ml-intercluster-and-intracluster-distance/**"
   ]
  },
  {
   "cell_type": "code",
   "execution_count": 11,
   "metadata": {},
   "outputs": [],
   "source": [
    "from sklearn.datasets import make_blobs\n",
    "import random\n",
    "\n",
    "X, y = make_blobs(n_samples=100, random_state=1)"
   ]
  },
  {
   "cell_type": "code",
   "execution_count": 12,
   "metadata": {},
   "outputs": [],
   "source": [
    "def kmeans(data, k, max_iterations, min_distance):\n",
    "    # Создадим словарь для классификации\n",
    "    classes = {i: [] for i in range(k)}\n",
    "    \n",
    "    # инициализируем центроиды как первые k элементов датасета\n",
    "    centroids = [data[i] for i in range(k)]\n",
    "    \n",
    "    for _ in range(max_iterations):\n",
    "        # классифицируем объекты по центроидам\n",
    "        for x in data:\n",
    "            # определим расстояния от объекта до каждого центроида\n",
    "            distances = [e_metrics(x, centroid) for centroid in centroids]\n",
    "            # отнесем объект к кластеру, до центроида которого наименьшее расстояние\n",
    "            classification = distances.index(min(distances))\n",
    "            classes[classification].append(x)\n",
    "        \n",
    "        # сохраним предыдущие центроиды в отдельный список для последующего сравнения сновыми\n",
    "        old_centroids = centroids.copy()\n",
    "        \n",
    "        # пересчитаем центроиды как среднее по кластерам\n",
    "        for classification in classes:\n",
    "            centroids[classification] = np.average(classes[classification], axis=0)\n",
    "            \n",
    "        # сравним величину смещения центроидов с минимальной\n",
    "        optimal = True\n",
    "        for centroid in range(len(centroids)):\n",
    "            if np.sum(abs((centroids[centroid] - old_centroids[centroid]) / old_centroids * 100)) > min_distance:\n",
    "                optimal = False\n",
    "                \n",
    "        # если все смещения меньше минимального, останавливаем алгоритм  \n",
    "        if optimal:\n",
    "            break\n",
    "    \n",
    "    return old_centroids, classes"
   ]
  },
  {
   "cell_type": "code",
   "execution_count": 13,
   "metadata": {},
   "outputs": [],
   "source": [
    "max_iterations = 25\n",
    "min_distance = 1e-4\n",
    "\n",
    "centroids, clusters = kmeans(X, 4, max_iterations, min_distance)\n"
   ]
  },
  {
   "cell_type": "code",
   "execution_count": 14,
   "metadata": {},
   "outputs": [],
   "source": [
    "def max_dist(u_clast, v_clast): # рассчёт Complete Linkage Distance\n",
    "  max_distance = 0\n",
    "  for x in u_clast:\n",
    "      for y in v_clast:\n",
    "          dist = e_metrics(x, y)\n",
    "          if dist > max_distance:\n",
    "              max_distance = dist\n",
    "  return max_distance\n",
    "\n",
    "def dist_matrix(clusters):\n",
    "  matrix=np.zeros((len(clusters), len(clusters)))\n",
    "  for i, u in enumerate(clusters):\n",
    "    for j, v in enumerate(clusters[i+1:], start=i+1):\n",
    "      matrix[[i, j], [j, i]]=max_dist(u, v)\n",
    "  return matrix"
   ]
  },
  {
   "cell_type": "code",
   "execution_count": 15,
   "metadata": {},
   "outputs": [],
   "source": [
    "def indexes_to_combine(dist_matrix):\n",
    "  min_el=dist_matrix[np.triu_indices(dist_matrix.shape[0], 1)].min()\n",
    "  return np.argwhere(dist_matrix==min_el)[0], min_el"
   ]
  },
  {
   "cell_type": "code",
   "execution_count": 16,
   "metadata": {},
   "outputs": [],
   "source": [
    "def exclude_clusters(i, j, dist_matrix):\n",
    "  mask=np.ones(dist_matrix.shape[0], dtype=bool)\n",
    "  mask[i]=False\n",
    "  mask[j]=False\n",
    "  return dist_matrix[mask, :][:, mask]\n",
    "\n",
    "def merge_clusters(i, j, clusters):\n",
    "  new_cluster=clusters[i]+clusters[j]\n",
    "  return new_cluster, [c for k, c in enumerate(clusters) if not k in [i, j]]\n",
    "\n",
    "def include_cluster(dist_mat, old_clusters, new_cluster):\n",
    "  new_col=np.array([max_dist(c, new_cluster) for c in old_clusters])[:, np.newaxis]\n",
    "  dist_mat=np.concatenate([dist_mat, new_col], axis=1)\n",
    "  new_row=np.concatenate([new_col.flatten(), [0]])[np.newaxis, :]\n",
    "  dist_mat=np.concatenate([dist_mat, new_row], axis=0)\n",
    "  return dist_mat"
   ]
  },
  {
   "cell_type": "code",
   "execution_count": 17,
   "metadata": {},
   "outputs": [],
   "source": [
    "def hierarchy_clustering(cluster_list):\n",
    "  cluster_list=cluster_list[:]\n",
    "  dist_mat=dist_matrix(cluster_list)\n",
    "  cluster_numbers=list(range(len(cluster_list)))\n",
    "  z=[]\n",
    "  new_num=len(cluster_list)\n",
    "  while len(cluster_list)>1:\n",
    "    [i, j], min_val=indexes_to_combine(dist_mat)\n",
    "    dist_mat=exclude_clusters(i, j, dist_mat)\n",
    "    new_cluster, old_clusters=merge_clusters(i, j, cluster_list)\n",
    "    dist_mat=include_cluster(dist_mat, old_clusters, new_cluster)\n",
    "    z.append([cluster_numbers[i], cluster_numbers[j], min_val, len(new_cluster)])\n",
    "    print([cluster_numbers[i], cluster_numbers[j], min_val, len(new_cluster)])\n",
    "    cluster_list=old_clusters+[new_cluster]\n",
    "    cluster_numbers=[n for k, n in enumerate(cluster_numbers) if not k in [i, j]]+[new_num]\n",
    "    new_num+=1\n",
    "  return z\n"
   ]
  },
  {
   "cell_type": "code",
   "execution_count": 18,
   "metadata": {},
   "outputs": [],
   "source": [
    "cluster_keys=list(clusters.keys())\n",
    "cluster_data=[clusters[k] for k in cluster_keys]"
   ]
  },
  {
   "cell_type": "code",
   "execution_count": 19,
   "metadata": {},
   "outputs": [
    {
     "data": {
      "text/plain": [
       "array([[ 0.        , 18.0863922 , 15.06463051, 15.01507892],\n",
       "       [18.0863922 ,  0.        , 10.12450811,  9.19921689],\n",
       "       [15.06463051, 10.12450811,  0.        ,  3.9168296 ],\n",
       "       [15.01507892,  9.19921689,  3.9168296 ,  0.        ]])"
      ]
     },
     "execution_count": 19,
     "metadata": {},
     "output_type": "execute_result"
    }
   ],
   "source": [
    "dist_matrix(cluster_data)"
   ]
  },
  {
   "cell_type": "code",
   "execution_count": 20,
   "metadata": {},
   "outputs": [
    {
     "name": "stdout",
     "output_type": "stream",
     "text": [
      "[2, 3, 3.916829600863291, 815]\n",
      "[1, 4, 10.124508111718242, 1650]\n",
      "[0, 5, 18.086392197542647, 2500]\n"
     ]
    }
   ],
   "source": [
    "Z=hierarchy_clustering(cluster_data)"
   ]
  },
  {
   "cell_type": "code",
   "execution_count": 21,
   "metadata": {},
   "outputs": [
    {
     "data": {
      "text/plain": [
       "{'icoord': [[25.0, 25.0, 35.0, 35.0],\n",
       "  [15.0, 15.0, 30.0, 30.0],\n",
       "  [5.0, 5.0, 22.5, 22.5]],\n",
       " 'dcoord': [[0.0, 3.916829600863291, 3.916829600863291, 0.0],\n",
       "  [0.0, 10.124508111718242, 10.124508111718242, 3.916829600863291],\n",
       "  [0.0, 18.086392197542647, 18.086392197542647, 10.124508111718242]],\n",
       " 'ivl': ['r', 'g', 'b', 'm'],\n",
       " 'leaves': [0, 1, 2, 3],\n",
       " 'color_list': ['C1', 'C1', 'C0']}"
      ]
     },
     "execution_count": 21,
     "metadata": {},
     "output_type": "execute_result"
    },
    {
     "data": {
      "image/png": "[encoded data removed]",
      "text/plain": [
       "<Figure size 432x288 with 1 Axes>"
      ]
     },
     "metadata": {
      "needs_background": "light"
     },
     "output_type": "display_data"
    }
   ],
   "source": [
    "from scipy.cluster import hierarchy\n",
    "import matplotlib.pyplot as plt\n",
    "hierarchy.dendrogram(Z, labels= ['r', 'g', 'b', 'm'])"
   ]
  }
 ],
 "metadata": {
  "kernelspec": {
   "display_name": "Python 3",
   "language": "python",
   "name": "python3"
  },
  "language_info": {
   "codemirror_mode": {
    "name": "ipython",
    "version": 3
   },
   "file_extension": ".py",
   "mimetype": "text/x-python",
   "name": "python",
   "nbconvert_exporter": "python",
   "pygments_lexer": "ipython3",
   "version": "3.8.3"
  }
 },
 "nbformat": 4,
 "nbformat_minor": 4
}
